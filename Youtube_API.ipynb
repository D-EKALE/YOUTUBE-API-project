{
 "cells": [
  {
   "attachments": {},
   "cell_type": "markdown",
   "metadata": {},
   "source": [
    "# YOUTUBE APIs\n",
    "This simple proect is meant to access my youtube channel and create a dataframe of all the videos in my channel. Also it will show the likes, comments and the number of views per video"
   ]
  },
  {
   "cell_type": "code",
   "execution_count": 213,
   "metadata": {},
   "outputs": [],
   "source": [
    "# import the reuired keys\n",
    "import requests\n",
    "import pandas as pd"
   ]
  },
  {
   "cell_type": "code",
   "execution_count": 214,
   "metadata": {},
   "outputs": [],
   "source": [
    "# This module contains a .py file that has my keys and channle id. You can replace yours with the exact values.\n",
    "import keys\n",
    "api_key = keys.api_key\n",
    "channel_id = keys.channel_id"
   ]
  },
  {
   "cell_type": "code",
   "execution_count": 215,
   "metadata": {},
   "outputs": [],
   "source": [
    "# make an API call\n",
    "\n",
    "pageToken = ''\n",
    "url = 'https://www.googleapis.com/youtube/v3/search?key='+api_key+'&channelId='+channel_id+'&part=snippet,id&order=date&maxResults=1000'+pageToken\n",
    "response = requests.get(url).json()"
   ]
  },
  {
   "cell_type": "code",
   "execution_count": 216,
   "metadata": {},
   "outputs": [
    {
     "data": {
      "text/plain": [
       "{'kind': 'youtube#searchListResponse',\n",
       " 'etag': 'a7xFXKu-0kLbzkbJWaxhK4ZEXcw',\n",
       " 'regionCode': 'KE',\n",
       " 'pageInfo': {'totalResults': 5, 'resultsPerPage': 5},\n",
       " 'items': [{'kind': 'youtube#searchResult',\n",
       "   'etag': 'lz8QlgXxZqujmkzg_MNhXGGP8GY',\n",
       "   'id': {'kind': 'youtube#video', 'videoId': '-GTMfs2K7AM'},\n",
       "   'snippet': {'publishedAt': '2021-07-30T06:14:38Z',\n",
       "    'channelId': 'UC_GmvyOJCwvw6_Co4WpZ39Q',\n",
       "    'title': 'KMA Mtwapa Holiday Home',\n",
       "    'description': 'Located in Mtwapa, KMA Mtwapa Holiday Home provides accommodations with a balcony and free WiFi. Located 2.1 mi from ...',\n",
       "    'thumbnails': {'default': {'url': 'https://i.ytimg.com/vi/-GTMfs2K7AM/default.jpg',\n",
       "      'width': 120,\n",
       "      'height': 90},\n",
       "     'medium': {'url': 'https://i.ytimg.com/vi/-GTMfs2K7AM/mqdefault.jpg',\n",
       "      'width': 320,\n",
       "      'height': 180},\n",
       "     'high': {'url': 'https://i.ytimg.com/vi/-GTMfs2K7AM/hqdefault.jpg',\n",
       "      'width': 480,\n",
       "      'height': 360}},\n",
       "    'channelTitle': 'Daniel Ekale',\n",
       "    'liveBroadcastContent': 'none',\n",
       "    'publishTime': '2021-07-30T06:14:38Z'}},\n",
       "  {'kind': 'youtube#searchResult',\n",
       "   'etag': 'D4iWqW4nFPnxoWDFa_bMPGu38sc',\n",
       "   'id': {'kind': 'youtube#video', 'videoId': 'Qx8yeRhJmbg'},\n",
       "   'snippet': {'publishedAt': '2021-01-01T08:44:34Z',\n",
       "    'channelId': 'UC_GmvyOJCwvw6_Co4WpZ39Q',\n",
       "    'title': 'The Thompson’s Falls',\n",
       "    'description': \"Thomson's Falls is a scenic waterfall on the Ewaso Ng'iro river in Nyahururu . It's a 74 meters waterfall, a few kilometers away from ...\",\n",
       "    'thumbnails': {'default': {'url': 'https://i.ytimg.com/vi/Qx8yeRhJmbg/default.jpg',\n",
       "      'width': 120,\n",
       "      'height': 90},\n",
       "     'medium': {'url': 'https://i.ytimg.com/vi/Qx8yeRhJmbg/mqdefault.jpg',\n",
       "      'width': 320,\n",
       "      'height': 180},\n",
       "     'high': {'url': 'https://i.ytimg.com/vi/Qx8yeRhJmbg/hqdefault.jpg',\n",
       "      'width': 480,\n",
       "      'height': 360}},\n",
       "    'channelTitle': 'Daniel Ekale',\n",
       "    'liveBroadcastContent': 'none',\n",
       "    'publishTime': '2021-01-01T08:44:34Z'}},\n",
       "  {'kind': 'youtube#searchResult',\n",
       "   'etag': 'DUSPp_rJu6gSeIn-Ucn4_7ObTtg',\n",
       "   'id': {'kind': 'youtube#video', 'videoId': 'x-gZZ_EQgoY'},\n",
       "   'snippet': {'publishedAt': '2020-12-26T14:17:24Z',\n",
       "    'channelId': 'UC_GmvyOJCwvw6_Co4WpZ39Q',\n",
       "    'title': 'Funcity Recreational Centre &amp; Restaurant',\n",
       "    'description': 'Welcome to Funcity Gardens located along the Eastern Bypass Utawala Past Ruai underpass opposite Bakri Petrol Station, ...',\n",
       "    'thumbnails': {'default': {'url': 'https://i.ytimg.com/vi/x-gZZ_EQgoY/default.jpg',\n",
       "      'width': 120,\n",
       "      'height': 90},\n",
       "     'medium': {'url': 'https://i.ytimg.com/vi/x-gZZ_EQgoY/mqdefault.jpg',\n",
       "      'width': 320,\n",
       "      'height': 180},\n",
       "     'high': {'url': 'https://i.ytimg.com/vi/x-gZZ_EQgoY/hqdefault.jpg',\n",
       "      'width': 480,\n",
       "      'height': 360}},\n",
       "    'channelTitle': 'Daniel Ekale',\n",
       "    'liveBroadcastContent': 'none',\n",
       "    'publishTime': '2020-12-26T14:17:24Z'}},\n",
       "  {'kind': 'youtube#searchResult',\n",
       "   'etag': 'ml5M61f1JcNzBobHo5pQ4egaEHM',\n",
       "   'id': {'kind': 'youtube#video', 'videoId': '-0i9C9gcVdY'},\n",
       "   'snippet': {'publishedAt': '2020-07-12T20:24:48Z',\n",
       "    'channelId': 'UC_GmvyOJCwvw6_Co4WpZ39Q',\n",
       "    'title': 'Rental houses in Utawala, Nairobi.',\n",
       "    'description': 'This video advertises rental properties in Utawala, Nairobi. We have two and three bedroom houses to let at affordable price.',\n",
       "    'thumbnails': {'default': {'url': 'https://i.ytimg.com/vi/-0i9C9gcVdY/default.jpg',\n",
       "      'width': 120,\n",
       "      'height': 90},\n",
       "     'medium': {'url': 'https://i.ytimg.com/vi/-0i9C9gcVdY/mqdefault.jpg',\n",
       "      'width': 320,\n",
       "      'height': 180},\n",
       "     'high': {'url': 'https://i.ytimg.com/vi/-0i9C9gcVdY/hqdefault.jpg',\n",
       "      'width': 480,\n",
       "      'height': 360}},\n",
       "    'channelTitle': 'Daniel Ekale',\n",
       "    'liveBroadcastContent': 'none',\n",
       "    'publishTime': '2020-07-12T20:24:48Z'}},\n",
       "  {'kind': 'youtube#searchResult',\n",
       "   'etag': 'k2_8pwCNEF367MyI28YVT8cHoIs',\n",
       "   'id': {'kind': 'youtube#channel', 'channelId': 'UC_GmvyOJCwvw6_Co4WpZ39Q'},\n",
       "   'snippet': {'publishedAt': '2016-05-09T09:05:00Z',\n",
       "    'channelId': 'UC_GmvyOJCwvw6_Co4WpZ39Q',\n",
       "    'title': 'Daniel Ekale',\n",
       "    'description': '',\n",
       "    'thumbnails': {'default': {'url': 'https://yt3.ggpht.com/ytc/AL5GRJU1FTHNBc83GU-9LY2qUkEnZdJ-Ki_Od59nLXUccw=s88-c-k-c0xffffffff-no-rj-mo'},\n",
       "     'medium': {'url': 'https://yt3.ggpht.com/ytc/AL5GRJU1FTHNBc83GU-9LY2qUkEnZdJ-Ki_Od59nLXUccw=s240-c-k-c0xffffffff-no-rj-mo'},\n",
       "     'high': {'url': 'https://yt3.ggpht.com/ytc/AL5GRJU1FTHNBc83GU-9LY2qUkEnZdJ-Ki_Od59nLXUccw=s800-c-k-c0xffffffff-no-rj-mo'}},\n",
       "    'channelTitle': 'Daniel Ekale',\n",
       "    'liveBroadcastContent': 'none',\n",
       "    'publishTime': '2016-05-09T09:05:00Z'}}]}"
      ]
     },
     "execution_count": 216,
     "metadata": {},
     "output_type": "execute_result"
    }
   ],
   "source": [
    "# preview our response\n",
    "response"
   ]
  },
  {
   "cell_type": "code",
   "execution_count": 217,
   "metadata": {},
   "outputs": [],
   "source": [
    "def get_videos(api_key, response):\n",
    "    ''' This function takes two arguments, the api_key and the response and generates a list of videos from that channel'''\n",
    "    list_of_videos = [] # an empty list that will hold all the video details\n",
    "    for video in response['items']:\n",
    "        if video['id']['kind'] == 'youtube#video': # only choose videos \n",
    "            results = {\n",
    "                    'Video ID' : video['id']['videoId'],\n",
    "                    'Video Title' : str(video['snippet']['title']).replace(\"&amp;\", ''),\n",
    "                    'Publish Date' : str(video['snippet']['publishedAt']).split(\"T\")[0]\n",
    "                    }\n",
    "            video_id = video['id']['videoId'] \n",
    "            url_stats = 'https://www.googleapis.com/youtube/v3/videos?id='+video_id+'&part=statistics&key='+api_key # second response for video stats\n",
    "            response_video_stats = requests.get(url_stats).json()\n",
    "            for stats in response_video_stats['items']:\n",
    "                results['View Count'] = stats['statistics']['viewCount']\n",
    "                results['Like Count'] = stats['statistics']['likeCount']\n",
    "                results['Comment Count'] = stats['statistics']['commentCount']\n",
    "            \n",
    "                list_of_videos.append(results) # append to our list above\n",
    "    return list_of_videos"
   ]
  },
  {
   "cell_type": "code",
   "execution_count": 218,
   "metadata": {},
   "outputs": [
    {
     "data": {
      "text/html": [
       "<div>\n",
       "<style scoped>\n",
       "    .dataframe tbody tr th:only-of-type {\n",
       "        vertical-align: middle;\n",
       "    }\n",
       "\n",
       "    .dataframe tbody tr th {\n",
       "        vertical-align: top;\n",
       "    }\n",
       "\n",
       "    .dataframe thead th {\n",
       "        text-align: right;\n",
       "    }\n",
       "</style>\n",
       "<table border=\"1\" class=\"dataframe\">\n",
       "  <thead>\n",
       "    <tr style=\"text-align: right;\">\n",
       "      <th></th>\n",
       "      <th>Video ID</th>\n",
       "      <th>Video Title</th>\n",
       "      <th>Publish Date</th>\n",
       "      <th>View Count</th>\n",
       "      <th>Like Count</th>\n",
       "      <th>Comment Count</th>\n",
       "    </tr>\n",
       "  </thead>\n",
       "  <tbody>\n",
       "    <tr>\n",
       "      <th>0</th>\n",
       "      <td>-GTMfs2K7AM</td>\n",
       "      <td>KMA Mtwapa Holiday Home</td>\n",
       "      <td>2021-07-30</td>\n",
       "      <td>69</td>\n",
       "      <td>3</td>\n",
       "      <td>0</td>\n",
       "    </tr>\n",
       "    <tr>\n",
       "      <th>1</th>\n",
       "      <td>Qx8yeRhJmbg</td>\n",
       "      <td>The Thompson’s Falls</td>\n",
       "      <td>2021-01-01</td>\n",
       "      <td>11</td>\n",
       "      <td>2</td>\n",
       "      <td>0</td>\n",
       "    </tr>\n",
       "    <tr>\n",
       "      <th>2</th>\n",
       "      <td>x-gZZ_EQgoY</td>\n",
       "      <td>Funcity Recreational Centre  Restaurant</td>\n",
       "      <td>2020-12-26</td>\n",
       "      <td>88</td>\n",
       "      <td>3</td>\n",
       "      <td>0</td>\n",
       "    </tr>\n",
       "    <tr>\n",
       "      <th>3</th>\n",
       "      <td>-0i9C9gcVdY</td>\n",
       "      <td>Rental houses in Utawala, Nairobi.</td>\n",
       "      <td>2020-07-12</td>\n",
       "      <td>827</td>\n",
       "      <td>7</td>\n",
       "      <td>13</td>\n",
       "    </tr>\n",
       "  </tbody>\n",
       "</table>\n",
       "</div>"
      ],
      "text/plain": [
       "      Video ID                              Video Title Publish Date  \\\n",
       "0  -GTMfs2K7AM                  KMA Mtwapa Holiday Home   2021-07-30   \n",
       "1  Qx8yeRhJmbg                     The Thompson’s Falls   2021-01-01   \n",
       "2  x-gZZ_EQgoY  Funcity Recreational Centre  Restaurant   2020-12-26   \n",
       "3  -0i9C9gcVdY       Rental houses in Utawala, Nairobi.   2020-07-12   \n",
       "\n",
       "  View Count Like Count Comment Count  \n",
       "0         69          3             0  \n",
       "1         11          2             0  \n",
       "2         88          3             0  \n",
       "3        827          7            13  "
      ]
     },
     "execution_count": 218,
     "metadata": {},
     "output_type": "execute_result"
    }
   ],
   "source": [
    "# Create a pandas Data Frame from a list of all the videos\n",
    "my_videos = get_videos(api_key, response)\n",
    "df = pd.DataFrame(my_videos)\n",
    "df.head()"
   ]
  },
  {
   "cell_type": "code",
   "execution_count": 219,
   "metadata": {},
   "outputs": [
    {
     "data": {
      "text/html": [
       "<div>\n",
       "<style scoped>\n",
       "    .dataframe tbody tr th:only-of-type {\n",
       "        vertical-align: middle;\n",
       "    }\n",
       "\n",
       "    .dataframe tbody tr th {\n",
       "        vertical-align: top;\n",
       "    }\n",
       "\n",
       "    .dataframe thead th {\n",
       "        text-align: right;\n",
       "    }\n",
       "</style>\n",
       "<table border=\"1\" class=\"dataframe\">\n",
       "  <thead>\n",
       "    <tr style=\"text-align: right;\">\n",
       "      <th></th>\n",
       "      <th>Video ID</th>\n",
       "      <th>Video Title</th>\n",
       "      <th>Publish Date</th>\n",
       "      <th>View Count</th>\n",
       "      <th>Like Count</th>\n",
       "      <th>Comment Count</th>\n",
       "    </tr>\n",
       "  </thead>\n",
       "  <tbody>\n",
       "    <tr>\n",
       "      <th>3</th>\n",
       "      <td>-0i9C9gcVdY</td>\n",
       "      <td>Rental houses in Utawala, Nairobi.</td>\n",
       "      <td>2020-07-12</td>\n",
       "      <td>827</td>\n",
       "      <td>7</td>\n",
       "      <td>13</td>\n",
       "    </tr>\n",
       "    <tr>\n",
       "      <th>2</th>\n",
       "      <td>x-gZZ_EQgoY</td>\n",
       "      <td>Funcity Recreational Centre  Restaurant</td>\n",
       "      <td>2020-12-26</td>\n",
       "      <td>88</td>\n",
       "      <td>3</td>\n",
       "      <td>0</td>\n",
       "    </tr>\n",
       "    <tr>\n",
       "      <th>0</th>\n",
       "      <td>-GTMfs2K7AM</td>\n",
       "      <td>KMA Mtwapa Holiday Home</td>\n",
       "      <td>2021-07-30</td>\n",
       "      <td>69</td>\n",
       "      <td>3</td>\n",
       "      <td>0</td>\n",
       "    </tr>\n",
       "    <tr>\n",
       "      <th>1</th>\n",
       "      <td>Qx8yeRhJmbg</td>\n",
       "      <td>The Thompson’s Falls</td>\n",
       "      <td>2021-01-01</td>\n",
       "      <td>11</td>\n",
       "      <td>2</td>\n",
       "      <td>0</td>\n",
       "    </tr>\n",
       "  </tbody>\n",
       "</table>\n",
       "</div>"
      ],
      "text/plain": [
       "      Video ID                              Video Title Publish Date  \\\n",
       "3  -0i9C9gcVdY       Rental houses in Utawala, Nairobi.   2020-07-12   \n",
       "2  x-gZZ_EQgoY  Funcity Recreational Centre  Restaurant   2020-12-26   \n",
       "0  -GTMfs2K7AM                  KMA Mtwapa Holiday Home   2021-07-30   \n",
       "1  Qx8yeRhJmbg                     The Thompson’s Falls   2021-01-01   \n",
       "\n",
       "   View Count Like Count Comment Count  \n",
       "3         827          7            13  \n",
       "2          88          3             0  \n",
       "0          69          3             0  \n",
       "1          11          2             0  "
      ]
     },
     "execution_count": 219,
     "metadata": {},
     "output_type": "execute_result"
    }
   ],
   "source": [
    "# To be able to use the View Count column Convert it from string to int\n",
    "df['View Count'] = df['View Count'].astype(int)\n",
    "df.sort_values(by='View Count', ascending=False)"
   ]
  },
  {
   "attachments": {},
   "cell_type": "markdown",
   "metadata": {},
   "source": [
    "### The Top most watched videos plot"
   ]
  },
  {
   "cell_type": "code",
   "execution_count": 220,
   "metadata": {},
   "outputs": [
    {
     "data": {
      "image/png": "[encoded data removed]",
      "text/plain": [
       "<Figure size 1000x600 with 1 Axes>"
      ]
     },
     "metadata": {},
     "output_type": "display_data"
    }
   ],
   "source": [
    "import matplotlib.pyplot as plt\n",
    "# sort the dataframe by view count\n",
    "df_sorted = df.sort_values(by='View Count', ascending=False)\n",
    "\n",
    "# create a bar plot\n",
    "plt.style.use('ggplot')\n",
    "fig, ax = plt.subplots(figsize=(10,6))\n",
    "ax.bar(df_sorted['Video Title'], df_sorted['View Count'], alpha=0.5)\n",
    "\n",
    "# set x-axis label rotation\n",
    "plt.xticks(rotation=90)\n",
    "\n",
    "# set plot title and axis labels\n",
    "plt.title('Top 5 Most Watched Videos')\n",
    "plt.xlabel('Video Title')\n",
    "plt.ylabel('View Count')\n",
    "\n",
    "# display the plot\n",
    "plt.show()"
   ]
  },
  {
   "attachments": {},
   "cell_type": "markdown",
   "metadata": {},
   "source": [
    "### Conclusion\n",
    "The output shows the top 4 most viewed videos and their view count in descending order. The most viewed video is \"Rental houses in Utawala, Nairobi\" with 827 views followed by \"Funcity Recreational Centre & Restaurant\" with 88 views, \"KMA Mtwapa Holiday Home\" with 69 views, and \"The Thompson’s Falls\" with 11 views."
   ]
  }
 ],
 "metadata": {
  "kernelspec": {
   "display_name": "Python 3",
   "language": "python",
   "name": "python3"
  },
  "language_info": {
   "codemirror_mode": {
    "name": "ipython",
    "version": 3
   },
   "file_extension": ".py",
   "mimetype": "text/x-python",
   "name": "python",
   "nbconvert_exporter": "python",
   "pygments_lexer": "ipython3",
   "version": "3.11.2"
  },
  "orig_nbformat": 4
 },
 "nbformat": 4,
 "nbformat_minor": 2
}
